{
  "cells": [
    {
      "cell_type": "markdown",
      "id": "15290db5",
      "metadata": {
        "id": "15290db5"
      },
      "source": [
        "# Importing Libraries"
      ]
    },
    {
      "cell_type": "code",
      "execution_count": 1,
      "id": "407b2fd8",
      "metadata": {
        "id": "407b2fd8"
      },
      "outputs": [],
      "source": [
        "import yfinance as yf\n",
        "import numpy as np\n",
        "import pandas as pd\n",
        "import matplotlib.pyplot as plt"
      ]
    },
    {
      "cell_type": "markdown",
      "id": "e3957def",
      "metadata": {
        "id": "e3957def"
      },
      "source": [
        "# Downloading Financial Data"
      ]
    },
    {
      "cell_type": "code",
      "execution_count": 2,
      "id": "17722816",
      "metadata": {
        "colab": {
          "base_uri": "https://localhost:8080/"
        },
        "id": "17722816",
        "outputId": "08ad2e5c-1060-4b5d-8344-477a887e8aca"
      },
      "outputs": [
        {
          "output_type": "stream",
          "name": "stderr",
          "text": [
            "[*********************100%***********************]  8 of 8 completed\n"
          ]
        }
      ],
      "source": [
        "stocks = ['DIA', 'SPY', 'GLD', 'AAPL', 'XOM', 'GOOG', 'F', 'IWM']\n",
        "#Any random number of stocks can be added or dropped(Make sure to also edit portfoliostd function accordingly)\n",
        "\n",
        "stocks = yf.download(stocks, start = \"2014-09-01\", end = \"2024-09-01\")\n",
        "#Start and End time can be configured"
      ]
    },
    {
      "cell_type": "markdown",
      "id": "d36be587",
      "metadata": {
        "id": "d36be587"
      },
      "source": [
        "# Creating Log Return Data Frame"
      ]
    },
    {
      "cell_type": "code",
      "execution_count": 3,
      "id": "5805bd11",
      "metadata": {
        "colab": {
          "base_uri": "https://localhost:8080/",
          "height": 455
        },
        "id": "5805bd11",
        "outputId": "6621e045-ebff-4ca6-d0c5-9cd74d76fa16"
      },
      "outputs": [
        {
          "output_type": "execute_result",
          "data": {
            "text/plain": [
              "Ticker                         AAPL       DIA         F       GLD      GOOG  \\\n",
              "Date                                                                          \n",
              "2014-09-03 00:00:00+00:00 -0.043124  0.000820 -0.007414  0.004102  0.001056   \n",
              "2014-09-04 00:00:00+00:00 -0.008322 -0.000351 -0.011514 -0.005500  0.006966   \n",
              "2014-09-05 00:00:00+00:00  0.008625  0.003451 -0.007556  0.004763  0.007020   \n",
              "2014-09-08 00:00:00+00:00 -0.006183 -0.001111 -0.020036 -0.010956  0.006192   \n",
              "2014-09-09 00:00:00+00:00 -0.003769 -0.005510 -0.010170  0.001159 -0.014880   \n",
              "...                             ...       ...       ...       ...       ...   \n",
              "2024-08-26 00:00:00+00:00  0.001498  0.002159 -0.014299  0.003184  0.002982   \n",
              "2024-08-27 00:00:00+00:00  0.003735  0.000412  0.002697  0.002703 -0.009273   \n",
              "2024-08-28 00:00:00+00:00 -0.006776 -0.003761 -0.009017 -0.007052 -0.011364   \n",
              "2024-08-29 00:00:00+00:00  0.014465  0.006228  0.006321  0.005165 -0.006709   \n",
              "2024-08-30 00:00:00+00:00 -0.003444  0.005541  0.007175 -0.007152  0.010411   \n",
              "\n",
              "Ticker                          IWM       SPY       XOM  \n",
              "Date                                                     \n",
              "2014-09-03 00:00:00+00:00 -0.006334 -0.000549  0.006275  \n",
              "2014-09-04 00:00:00+00:00 -0.003872 -0.001448 -0.007596  \n",
              "2014-09-05 00:00:00+00:00  0.003185  0.004485  0.009108  \n",
              "2014-09-08 00:00:00+00:00  0.001545 -0.002589 -0.015125  \n",
              "2014-09-09 00:00:00+00:00 -0.011910 -0.006351 -0.003894  \n",
              "...                             ...       ...       ...  \n",
              "2024-08-26 00:00:00+00:00  0.000318 -0.002387  0.021181  \n",
              "2024-08-27 00:00:00+00:00 -0.007787  0.001372 -0.009556  \n",
              "2024-08-28 00:00:00+00:00 -0.006789 -0.005822 -0.009906  \n",
              "2024-08-29 00:00:00+00:00  0.007109  0.000089  0.013723  \n",
              "2024-08-30 00:00:00+00:00  0.005787  0.009501 -0.001610  \n",
              "\n",
              "[2516 rows x 8 columns]"
            ],
            "text/html": [
              "\n",
              "  <div id=\"df-a02a4286-cfda-4d21-abe1-b631ca04051f\" class=\"colab-df-container\">\n",
              "    <div>\n",
              "<style scoped>\n",
              "    .dataframe tbody tr th:only-of-type {\n",
              "        vertical-align: middle;\n",
              "    }\n",
              "\n",
              "    .dataframe tbody tr th {\n",
              "        vertical-align: top;\n",
              "    }\n",
              "\n",
              "    .dataframe thead th {\n",
              "        text-align: right;\n",
              "    }\n",
              "</style>\n",
              "<table border=\"1\" class=\"dataframe\">\n",
              "  <thead>\n",
              "    <tr style=\"text-align: right;\">\n",
              "      <th>Ticker</th>\n",
              "      <th>AAPL</th>\n",
              "      <th>DIA</th>\n",
              "      <th>F</th>\n",
              "      <th>GLD</th>\n",
              "      <th>GOOG</th>\n",
              "      <th>IWM</th>\n",
              "      <th>SPY</th>\n",
              "      <th>XOM</th>\n",
              "    </tr>\n",
              "    <tr>\n",
              "      <th>Date</th>\n",
              "      <th></th>\n",
              "      <th></th>\n",
              "      <th></th>\n",
              "      <th></th>\n",
              "      <th></th>\n",
              "      <th></th>\n",
              "      <th></th>\n",
              "      <th></th>\n",
              "    </tr>\n",
              "  </thead>\n",
              "  <tbody>\n",
              "    <tr>\n",
              "      <th>2014-09-03 00:00:00+00:00</th>\n",
              "      <td>-0.043124</td>\n",
              "      <td>0.000820</td>\n",
              "      <td>-0.007414</td>\n",
              "      <td>0.004102</td>\n",
              "      <td>0.001056</td>\n",
              "      <td>-0.006334</td>\n",
              "      <td>-0.000549</td>\n",
              "      <td>0.006275</td>\n",
              "    </tr>\n",
              "    <tr>\n",
              "      <th>2014-09-04 00:00:00+00:00</th>\n",
              "      <td>-0.008322</td>\n",
              "      <td>-0.000351</td>\n",
              "      <td>-0.011514</td>\n",
              "      <td>-0.005500</td>\n",
              "      <td>0.006966</td>\n",
              "      <td>-0.003872</td>\n",
              "      <td>-0.001448</td>\n",
              "      <td>-0.007596</td>\n",
              "    </tr>\n",
              "    <tr>\n",
              "      <th>2014-09-05 00:00:00+00:00</th>\n",
              "      <td>0.008625</td>\n",
              "      <td>0.003451</td>\n",
              "      <td>-0.007556</td>\n",
              "      <td>0.004763</td>\n",
              "      <td>0.007020</td>\n",
              "      <td>0.003185</td>\n",
              "      <td>0.004485</td>\n",
              "      <td>0.009108</td>\n",
              "    </tr>\n",
              "    <tr>\n",
              "      <th>2014-09-08 00:00:00+00:00</th>\n",
              "      <td>-0.006183</td>\n",
              "      <td>-0.001111</td>\n",
              "      <td>-0.020036</td>\n",
              "      <td>-0.010956</td>\n",
              "      <td>0.006192</td>\n",
              "      <td>0.001545</td>\n",
              "      <td>-0.002589</td>\n",
              "      <td>-0.015125</td>\n",
              "    </tr>\n",
              "    <tr>\n",
              "      <th>2014-09-09 00:00:00+00:00</th>\n",
              "      <td>-0.003769</td>\n",
              "      <td>-0.005510</td>\n",
              "      <td>-0.010170</td>\n",
              "      <td>0.001159</td>\n",
              "      <td>-0.014880</td>\n",
              "      <td>-0.011910</td>\n",
              "      <td>-0.006351</td>\n",
              "      <td>-0.003894</td>\n",
              "    </tr>\n",
              "    <tr>\n",
              "      <th>...</th>\n",
              "      <td>...</td>\n",
              "      <td>...</td>\n",
              "      <td>...</td>\n",
              "      <td>...</td>\n",
              "      <td>...</td>\n",
              "      <td>...</td>\n",
              "      <td>...</td>\n",
              "      <td>...</td>\n",
              "    </tr>\n",
              "    <tr>\n",
              "      <th>2024-08-26 00:00:00+00:00</th>\n",
              "      <td>0.001498</td>\n",
              "      <td>0.002159</td>\n",
              "      <td>-0.014299</td>\n",
              "      <td>0.003184</td>\n",
              "      <td>0.002982</td>\n",
              "      <td>0.000318</td>\n",
              "      <td>-0.002387</td>\n",
              "      <td>0.021181</td>\n",
              "    </tr>\n",
              "    <tr>\n",
              "      <th>2024-08-27 00:00:00+00:00</th>\n",
              "      <td>0.003735</td>\n",
              "      <td>0.000412</td>\n",
              "      <td>0.002697</td>\n",
              "      <td>0.002703</td>\n",
              "      <td>-0.009273</td>\n",
              "      <td>-0.007787</td>\n",
              "      <td>0.001372</td>\n",
              "      <td>-0.009556</td>\n",
              "    </tr>\n",
              "    <tr>\n",
              "      <th>2024-08-28 00:00:00+00:00</th>\n",
              "      <td>-0.006776</td>\n",
              "      <td>-0.003761</td>\n",
              "      <td>-0.009017</td>\n",
              "      <td>-0.007052</td>\n",
              "      <td>-0.011364</td>\n",
              "      <td>-0.006789</td>\n",
              "      <td>-0.005822</td>\n",
              "      <td>-0.009906</td>\n",
              "    </tr>\n",
              "    <tr>\n",
              "      <th>2024-08-29 00:00:00+00:00</th>\n",
              "      <td>0.014465</td>\n",
              "      <td>0.006228</td>\n",
              "      <td>0.006321</td>\n",
              "      <td>0.005165</td>\n",
              "      <td>-0.006709</td>\n",
              "      <td>0.007109</td>\n",
              "      <td>0.000089</td>\n",
              "      <td>0.013723</td>\n",
              "    </tr>\n",
              "    <tr>\n",
              "      <th>2024-08-30 00:00:00+00:00</th>\n",
              "      <td>-0.003444</td>\n",
              "      <td>0.005541</td>\n",
              "      <td>0.007175</td>\n",
              "      <td>-0.007152</td>\n",
              "      <td>0.010411</td>\n",
              "      <td>0.005787</td>\n",
              "      <td>0.009501</td>\n",
              "      <td>-0.001610</td>\n",
              "    </tr>\n",
              "  </tbody>\n",
              "</table>\n",
              "<p>2516 rows × 8 columns</p>\n",
              "</div>\n",
              "    <div class=\"colab-df-buttons\">\n",
              "\n",
              "  <div class=\"colab-df-container\">\n",
              "    <button class=\"colab-df-convert\" onclick=\"convertToInteractive('df-a02a4286-cfda-4d21-abe1-b631ca04051f')\"\n",
              "            title=\"Convert this dataframe to an interactive table.\"\n",
              "            style=\"display:none;\">\n",
              "\n",
              "  <svg xmlns=\"http://www.w3.org/2000/svg\" height=\"24px\" viewBox=\"0 -960 960 960\">\n",
              "    <path d=\"M120-120v-720h720v720H120Zm60-500h600v-160H180v160Zm220 220h160v-160H400v160Zm0 220h160v-160H400v160ZM180-400h160v-160H180v160Zm440 0h160v-160H620v160ZM180-180h160v-160H180v160Zm440 0h160v-160H620v160Z\"/>\n",
              "  </svg>\n",
              "    </button>\n",
              "\n",
              "  <style>\n",
              "    .colab-df-container {\n",
              "      display:flex;\n",
              "      gap: 12px;\n",
              "    }\n",
              "\n",
              "    .colab-df-convert {\n",
              "      background-color: #E8F0FE;\n",
              "      border: none;\n",
              "      border-radius: 50%;\n",
              "      cursor: pointer;\n",
              "      display: none;\n",
              "      fill: #1967D2;\n",
              "      height: 32px;\n",
              "      padding: 0 0 0 0;\n",
              "      width: 32px;\n",
              "    }\n",
              "\n",
              "    .colab-df-convert:hover {\n",
              "      background-color: #E2EBFA;\n",
              "      box-shadow: 0px 1px 2px rgba(60, 64, 67, 0.3), 0px 1px 3px 1px rgba(60, 64, 67, 0.15);\n",
              "      fill: #174EA6;\n",
              "    }\n",
              "\n",
              "    .colab-df-buttons div {\n",
              "      margin-bottom: 4px;\n",
              "    }\n",
              "\n",
              "    [theme=dark] .colab-df-convert {\n",
              "      background-color: #3B4455;\n",
              "      fill: #D2E3FC;\n",
              "    }\n",
              "\n",
              "    [theme=dark] .colab-df-convert:hover {\n",
              "      background-color: #434B5C;\n",
              "      box-shadow: 0px 1px 3px 1px rgba(0, 0, 0, 0.15);\n",
              "      filter: drop-shadow(0px 1px 2px rgba(0, 0, 0, 0.3));\n",
              "      fill: #FFFFFF;\n",
              "    }\n",
              "  </style>\n",
              "\n",
              "    <script>\n",
              "      const buttonEl =\n",
              "        document.querySelector('#df-a02a4286-cfda-4d21-abe1-b631ca04051f button.colab-df-convert');\n",
              "      buttonEl.style.display =\n",
              "        google.colab.kernel.accessAllowed ? 'block' : 'none';\n",
              "\n",
              "      async function convertToInteractive(key) {\n",
              "        const element = document.querySelector('#df-a02a4286-cfda-4d21-abe1-b631ca04051f');\n",
              "        const dataTable =\n",
              "          await google.colab.kernel.invokeFunction('convertToInteractive',\n",
              "                                                    [key], {});\n",
              "        if (!dataTable) return;\n",
              "\n",
              "        const docLinkHtml = 'Like what you see? Visit the ' +\n",
              "          '<a target=\"_blank\" href=https://colab.research.google.com/notebooks/data_table.ipynb>data table notebook</a>'\n",
              "          + ' to learn more about interactive tables.';\n",
              "        element.innerHTML = '';\n",
              "        dataTable['output_type'] = 'display_data';\n",
              "        await google.colab.output.renderOutput(dataTable, element);\n",
              "        const docLink = document.createElement('div');\n",
              "        docLink.innerHTML = docLinkHtml;\n",
              "        element.appendChild(docLink);\n",
              "      }\n",
              "    </script>\n",
              "  </div>\n",
              "\n",
              "\n",
              "<div id=\"df-a32a0d4f-373e-4e2b-85b2-5c56d523498e\">\n",
              "  <button class=\"colab-df-quickchart\" onclick=\"quickchart('df-a32a0d4f-373e-4e2b-85b2-5c56d523498e')\"\n",
              "            title=\"Suggest charts\"\n",
              "            style=\"display:none;\">\n",
              "\n",
              "<svg xmlns=\"http://www.w3.org/2000/svg\" height=\"24px\"viewBox=\"0 0 24 24\"\n",
              "     width=\"24px\">\n",
              "    <g>\n",
              "        <path d=\"M19 3H5c-1.1 0-2 .9-2 2v14c0 1.1.9 2 2 2h14c1.1 0 2-.9 2-2V5c0-1.1-.9-2-2-2zM9 17H7v-7h2v7zm4 0h-2V7h2v10zm4 0h-2v-4h2v4z\"/>\n",
              "    </g>\n",
              "</svg>\n",
              "  </button>\n",
              "\n",
              "<style>\n",
              "  .colab-df-quickchart {\n",
              "      --bg-color: #E8F0FE;\n",
              "      --fill-color: #1967D2;\n",
              "      --hover-bg-color: #E2EBFA;\n",
              "      --hover-fill-color: #174EA6;\n",
              "      --disabled-fill-color: #AAA;\n",
              "      --disabled-bg-color: #DDD;\n",
              "  }\n",
              "\n",
              "  [theme=dark] .colab-df-quickchart {\n",
              "      --bg-color: #3B4455;\n",
              "      --fill-color: #D2E3FC;\n",
              "      --hover-bg-color: #434B5C;\n",
              "      --hover-fill-color: #FFFFFF;\n",
              "      --disabled-bg-color: #3B4455;\n",
              "      --disabled-fill-color: #666;\n",
              "  }\n",
              "\n",
              "  .colab-df-quickchart {\n",
              "    background-color: var(--bg-color);\n",
              "    border: none;\n",
              "    border-radius: 50%;\n",
              "    cursor: pointer;\n",
              "    display: none;\n",
              "    fill: var(--fill-color);\n",
              "    height: 32px;\n",
              "    padding: 0;\n",
              "    width: 32px;\n",
              "  }\n",
              "\n",
              "  .colab-df-quickchart:hover {\n",
              "    background-color: var(--hover-bg-color);\n",
              "    box-shadow: 0 1px 2px rgba(60, 64, 67, 0.3), 0 1px 3px 1px rgba(60, 64, 67, 0.15);\n",
              "    fill: var(--button-hover-fill-color);\n",
              "  }\n",
              "\n",
              "  .colab-df-quickchart-complete:disabled,\n",
              "  .colab-df-quickchart-complete:disabled:hover {\n",
              "    background-color: var(--disabled-bg-color);\n",
              "    fill: var(--disabled-fill-color);\n",
              "    box-shadow: none;\n",
              "  }\n",
              "\n",
              "  .colab-df-spinner {\n",
              "    border: 2px solid var(--fill-color);\n",
              "    border-color: transparent;\n",
              "    border-bottom-color: var(--fill-color);\n",
              "    animation:\n",
              "      spin 1s steps(1) infinite;\n",
              "  }\n",
              "\n",
              "  @keyframes spin {\n",
              "    0% {\n",
              "      border-color: transparent;\n",
              "      border-bottom-color: var(--fill-color);\n",
              "      border-left-color: var(--fill-color);\n",
              "    }\n",
              "    20% {\n",
              "      border-color: transparent;\n",
              "      border-left-color: var(--fill-color);\n",
              "      border-top-color: var(--fill-color);\n",
              "    }\n",
              "    30% {\n",
              "      border-color: transparent;\n",
              "      border-left-color: var(--fill-color);\n",
              "      border-top-color: var(--fill-color);\n",
              "      border-right-color: var(--fill-color);\n",
              "    }\n",
              "    40% {\n",
              "      border-color: transparent;\n",
              "      border-right-color: var(--fill-color);\n",
              "      border-top-color: var(--fill-color);\n",
              "    }\n",
              "    60% {\n",
              "      border-color: transparent;\n",
              "      border-right-color: var(--fill-color);\n",
              "    }\n",
              "    80% {\n",
              "      border-color: transparent;\n",
              "      border-right-color: var(--fill-color);\n",
              "      border-bottom-color: var(--fill-color);\n",
              "    }\n",
              "    90% {\n",
              "      border-color: transparent;\n",
              "      border-bottom-color: var(--fill-color);\n",
              "    }\n",
              "  }\n",
              "</style>\n",
              "\n",
              "  <script>\n",
              "    async function quickchart(key) {\n",
              "      const quickchartButtonEl =\n",
              "        document.querySelector('#' + key + ' button');\n",
              "      quickchartButtonEl.disabled = true;  // To prevent multiple clicks.\n",
              "      quickchartButtonEl.classList.add('colab-df-spinner');\n",
              "      try {\n",
              "        const charts = await google.colab.kernel.invokeFunction(\n",
              "            'suggestCharts', [key], {});\n",
              "      } catch (error) {\n",
              "        console.error('Error during call to suggestCharts:', error);\n",
              "      }\n",
              "      quickchartButtonEl.classList.remove('colab-df-spinner');\n",
              "      quickchartButtonEl.classList.add('colab-df-quickchart-complete');\n",
              "    }\n",
              "    (() => {\n",
              "      let quickchartButtonEl =\n",
              "        document.querySelector('#df-a32a0d4f-373e-4e2b-85b2-5c56d523498e button');\n",
              "      quickchartButtonEl.style.display =\n",
              "        google.colab.kernel.accessAllowed ? 'block' : 'none';\n",
              "    })();\n",
              "  </script>\n",
              "</div>\n",
              "\n",
              "    </div>\n",
              "  </div>\n"
            ],
            "application/vnd.google.colaboratory.intrinsic+json": {
              "type": "dataframe",
              "summary": "{\n  \"name\": \"stocks_lr\",\n  \"rows\": 2516,\n  \"fields\": [\n    {\n      \"column\": \"Date\",\n      \"properties\": {\n        \"dtype\": \"date\",\n        \"min\": \"2014-09-03 00:00:00+00:00\",\n        \"max\": \"2024-08-30 00:00:00+00:00\",\n        \"num_unique_values\": 2516,\n        \"samples\": [\n          \"2017-02-14 00:00:00+00:00\",\n          \"2018-05-09 00:00:00+00:00\",\n          \"2018-05-31 00:00:00+00:00\"\n        ],\n        \"semantic_type\": \"\",\n        \"description\": \"\"\n      }\n    },\n    {\n      \"column\": \"AAPL\",\n      \"properties\": {\n        \"dtype\": \"number\",\n        \"std\": 0.01798045253476219,\n        \"min\": -0.1377080418886898,\n        \"max\": 0.11315750962493533,\n        \"num_unique_values\": 2511,\n        \"samples\": [\n          0.004047067428062614,\n          -0.005730793498598032,\n          -0.00849168118792668\n        ],\n        \"semantic_type\": \"\",\n        \"description\": \"\"\n      }\n    },\n    {\n      \"column\": \"DIA\",\n      \"properties\": {\n        \"dtype\": \"number\",\n        \"std\": 0.011043709934683817,\n        \"min\": -0.1365207160049023,\n        \"max\": 0.10453275051408202,\n        \"num_unique_values\": 2509,\n        \"samples\": [\n          0.015963660132028948,\n          0.013220927453769007,\n          0.0019787111364431256\n        ],\n        \"semantic_type\": \"\",\n        \"description\": \"\"\n      }\n    },\n    {\n      \"column\": \"F\",\n      \"properties\": {\n        \"dtype\": \"number\",\n        \"std\": 0.022556815293395573,\n        \"min\": -0.20286770749573174,\n        \"max\": 0.21059612398537342,\n        \"num_unique_values\": 2455,\n        \"samples\": [\n          0.0015578619822397802,\n          0.005602394378298003,\n          0.01229776657105458\n        ],\n        \"semantic_type\": \"\",\n        \"description\": \"\"\n      }\n    },\n    {\n      \"column\": \"GLD\",\n      \"properties\": {\n        \"dtype\": \"number\",\n        \"std\": 0.008955742844652616,\n        \"min\": -0.0551897267189793,\n        \"max\": 0.047873912303474195,\n        \"num_unique_values\": 2509,\n        \"samples\": [\n          -0.006048248796558386,\n          -0.004579458875531695,\n          0.002384623832616704\n        ],\n        \"semantic_type\": \"\",\n        \"description\": \"\"\n      }\n    },\n    {\n      \"column\": \"GOOG\",\n      \"properties\": {\n        \"dtype\": \"number\",\n        \"std\": 0.01776687736083419,\n        \"min\": -0.11766722904076192,\n        \"max\": 0.1488718189164629,\n        \"num_unique_values\": 2516,\n        \"samples\": [\n          0.0014758087627711595,\n          0.027006398259709803,\n          0.01597039931950555\n        ],\n        \"semantic_type\": \"\",\n        \"description\": \"\"\n      }\n    },\n    {\n      \"column\": \"IWM\",\n      \"properties\": {\n        \"dtype\": \"number\",\n        \"std\": 0.014184619889488135,\n        \"min\": -0.1423348190705456,\n        \"max\": 0.0875454554360903,\n        \"num_unique_values\": 2510,\n        \"samples\": [\n          -0.006531275448329637,\n          0.005463231121495685,\n          0.004332967454362702\n        ],\n        \"semantic_type\": \"\",\n        \"description\": \"\"\n      }\n    },\n    {\n      \"column\": \"SPY\",\n      \"properties\": {\n        \"dtype\": \"number\",\n        \"std\": 0.01114018539094553,\n        \"min\": -0.11588674066594164,\n        \"max\": 0.08673101953844645,\n        \"num_unique_values\": 2511,\n        \"samples\": [\n          0.001559902911653213,\n          -0.002059940675653728,\n          -0.0017412381336929538\n        ],\n        \"semantic_type\": \"\",\n        \"description\": \"\"\n      }\n    },\n    {\n      \"column\": \"XOM\",\n      \"properties\": {\n        \"dtype\": \"number\",\n        \"std\": 0.017502481874648347,\n        \"min\": -0.13039110961617992,\n        \"max\": 0.11944198836445453,\n        \"num_unique_values\": 2509,\n        \"samples\": [\n          0.0054172482656973395,\n          0.012198080573310212,\n          0.018284705511772546\n        ],\n        \"semantic_type\": \"\",\n        \"description\": \"\"\n      }\n    }\n  ]\n}"
            }
          },
          "metadata": {},
          "execution_count": 3
        }
      ],
      "source": [
        "#Creating a data frame with the log returns\n",
        "stocks_lr = np.log(1+stocks[\"Adj Close\"].pct_change())\n",
        "stocks_lr.dropna()"
      ]
    },
    {
      "cell_type": "markdown",
      "id": "587aafc3",
      "metadata": {
        "id": "587aafc3"
      },
      "source": [
        "# Creating Function to Calculate Portfolio Return\n",
        "\n",
        "## Portfolio Return is given by:\n",
        "### (Asset 1 Weight x Expected Return) + (Asset 2 Weight x Expected Return)..\n"
      ]
    },
    {
      "cell_type": "code",
      "execution_count": 4,
      "id": "f34403d9",
      "metadata": {
        "id": "f34403d9"
      },
      "outputs": [],
      "source": [
        "#Function to calculate portfolio return\n",
        "def portfolioreturn(weights):\n",
        "    return np.dot(stocks_lr.mean(),weights)*252"
      ]
    },
    {
      "cell_type": "markdown",
      "id": "76ffcd18",
      "metadata": {
        "id": "76ffcd18"
      },
      "source": [
        "# Function to Calculate Portfolio Standard Deviation (Risk)\n",
        "## Portfolio Risk is given by(example for 3 asset portfolio):\n",
        "![Portfolio-Standard-Deviation-Formula-1.png](attachment:Portfolio-Standard-Deviation-Formula-1.png)"
      ]
    },
    {
      "cell_type": "code",
      "execution_count": 5,
      "id": "b3ee3f55",
      "metadata": {
        "id": "b3ee3f55"
      },
      "outputs": [],
      "source": [
        "def portfoliostd(weights):\n",
        "    return (np.dot(np.dot(stocks_lr.cov(),weights),weights))**(1/2)*np.sqrt(252)\n"
      ]
    },
    {
      "cell_type": "markdown",
      "id": "61fc883c",
      "metadata": {
        "id": "61fc883c"
      },
      "source": [
        "# Function to Generate Random Weights"
      ]
    },
    {
      "cell_type": "code",
      "execution_count": 6,
      "id": "e44c085a",
      "metadata": {
        "id": "e44c085a"
      },
      "outputs": [],
      "source": [
        "def weightscreator(stocks_lr):\n",
        "    rand = np.random.random(len(stocks_lr.columns))\n",
        "    rand /= rand.sum()\n",
        "    return rand"
      ]
    },
    {
      "cell_type": "markdown",
      "id": "2e4b2ee9",
      "metadata": {
        "id": "2e4b2ee9"
      },
      "source": [
        "# Function to Find Returns and Standard Deviation for \"i\" Random Portfolio Weight Arrays"
      ]
    },
    {
      "cell_type": "code",
      "execution_count": 7,
      "id": "79c80c18",
      "metadata": {
        "id": "79c80c18"
      },
      "outputs": [],
      "source": [
        "returns = []\n",
        "stds = []\n",
        "w = []\n",
        "\n",
        "for i in range(1000): #Use the number of iterations you seem fit\n",
        "    weights = weightscreator(stocks_lr)\n",
        "    returns.append(portfolioreturn(weights))\n",
        "    stds.append(portfoliostd(weights))\n",
        "    w.append(weights)"
      ]
    },
    {
      "cell_type": "markdown",
      "id": "ed8cda3d",
      "metadata": {
        "id": "ed8cda3d"
      },
      "source": [
        "# Using MatPlotLib To Plot the Efficient Frontier\n",
        "\n",
        "## Where Efficient Frontier is the graph between Portfolio Risk and Return"
      ]
    },
    {
      "cell_type": "code",
      "execution_count": null,
      "id": "8fd8abbd",
      "metadata": {
        "colab": {
          "base_uri": "https://localhost:8080/",
          "height": 503
        },
        "id": "8fd8abbd",
        "outputId": "cc07448f-975e-415d-b43f-ec29ea946f65"
      },
      "outputs": [
        {
          "output_type": "display_data",
          "data": {
            "text/plain": [
              "<Figure size 640x480 with 1 Axes>"
            ],
            "image/png": "[encoded data removed]"
          },
          "metadata": {}
        },
        {
          "output_type": "display_data",
          "data": {
            "text/plain": [
              "<Figure size 3000x2000 with 0 Axes>"
            ]
          },
          "metadata": {}
        }
      ],
      "source": [
        "plt.scatter(stds,returns,c=\"red\",s=0.2,alpha=0.75) #Customise size according to number of iterations being plotter\n",
        "plt.scatter(stds[returns.index(max(returns))], max(returns),c = \"green\", s=3) #Customise size for this too\n",
        "plt.text(stds[returns.index(max(returns))],max(returns),\"Maximum Return\", fontsize=7) #Customise font size for this too\n",
        "plt.scatter(min(stds),returns[stds.index(min(stds))] ,c = \"blue\", s=3) #Customise size for this too\n",
        "plt.text(min(stds),returns[stds.index(min(stds))],\"Minimum Variance\", fontsize=7) #Customise font size for this too\n",
        "plt.title(\"Efficient Frontier\", fontsize = 20)\n",
        "plt.xlabel(\"Portfoliostd(Risk)\", fontsize = 15)\n",
        "plt.ylabel(\"Portfolioreturn(Return)\", fontsize = 15)\n",
        "plt.figure(figsize=(30,20))\n",
        "plt.show()"
      ]
    },
    {
      "cell_type": "markdown",
      "id": "e45ca38d",
      "metadata": {
        "id": "e45ca38d"
      },
      "source": [
        "## Finding Max Returns and Associated Risk"
      ]
    },
    {
      "cell_type": "code",
      "execution_count": null,
      "id": "e6471089",
      "metadata": {
        "colab": {
          "base_uri": "https://localhost:8080/"
        },
        "id": "e6471089",
        "outputId": "54c1ca40-902e-44fc-eb5e-addd2f03a1ac"
      },
      "outputs": [
        {
          "output_type": "stream",
          "name": "stdout",
          "text": [
            "Max return = 0.16793499255843128\n",
            "Corresponding Standard Deviation = 0.2006359396952803\n"
          ]
        }
      ],
      "source": [
        "print(\"Max return =\", max(returns))\n",
        "print(\"Corresponding Standard Deviation =\", stds[returns.index(max(returns))])"
      ]
    },
    {
      "cell_type": "markdown",
      "id": "78be3041",
      "metadata": {
        "id": "78be3041"
      },
      "source": [
        "# Creating a Function to Return Weights of Portfolios with Returns >= Max Returns According to Efficient Frontier"
      ]
    },
    {
      "cell_type": "code",
      "execution_count": null,
      "id": "e8d24aa7",
      "metadata": {
        "colab": {
          "base_uri": "https://localhost:8080/"
        },
        "id": "e8d24aa7",
        "outputId": "216ed7bc-263a-4a20-a76c-e1662321e2dd"
      },
      "outputs": [
        {
          "output_type": "stream",
          "name": "stdout",
          "text": [
            "Your Efficient Portfolio is: [0.41749569 0.22353915 0.00520432 0.02873666 0.08682298 0.02763259\n",
            " 0.20265645 0.00791215]\n"
          ]
        }
      ],
      "source": [
        "for i in range(10000): #Use the number of iterations you seem fit\n",
        "    weights = weightscreator(stocks_lr)\n",
        "    if (portfolioreturn(weights) >= max(returns)):\n",
        "        weight_new = weights\n",
        "        print(\"Your Efficient Portfolio is:\",weight_new) #Returns portfolio weights for above condition being satisfied\n",
        "        break\n"
      ]
    },
    {
      "cell_type": "code",
      "execution_count": null,
      "id": "8c433bdd",
      "metadata": {
        "colab": {
          "base_uri": "https://localhost:8080/"
        },
        "id": "8c433bdd",
        "outputId": "2735d1ea-5a91-4fa9-bfea-5a9627c2f6b7"
      },
      "outputs": [
        {
          "output_type": "stream",
          "name": "stdout",
          "text": [
            "Returns corresponding to weights found : 0.1651229747349874\n",
            "Risk associated with weights found : 0.2043848295060121\n"
          ]
        }
      ],
      "source": [
        "print(\"Returns corresponding to weights found :\",portfolioreturn(weight_new)) #Prints return of found weights\n",
        "print(\"Risk associated with weights found :\",portfoliostd(weight_new)) #Prints Risk of found weights"
      ]
    },
    {
      "cell_type": "code",
      "source": [],
      "metadata": {
        "id": "6WoCiEXD2AI5"
      },
      "id": "6WoCiEXD2AI5",
      "execution_count": null,
      "outputs": []
    },
    {
      "cell_type": "code",
      "source": [],
      "metadata": {
        "id": "F0Z0OQqq2ALS"
      },
      "id": "F0Z0OQqq2ALS",
      "execution_count": null,
      "outputs": []
    },
    {
      "cell_type": "code",
      "source": [
        "def create_fronteir_df(iterations):\n",
        "  returns = []\n",
        "  stds = []\n",
        "  w = []\n",
        "  sharpes = []\n",
        "\n",
        "  for i in range(1000): #Use the number of iterations you seem fit\n",
        "    weights = weightscreator(stocks_lr)\n",
        "\n",
        "    current_returns = portfolioreturn(weights)\n",
        "    returns.append(current_returns)\n",
        "\n",
        "    current_std = portfoliostd(weights)\n",
        "    stds.append(portfoliostd(weights))\n",
        "\n",
        "    w.append(weights)\n",
        "\n",
        "    sharpes.append(current_returns/current_std)\n",
        "\n",
        "\n",
        "\n",
        "  output = pd.DataFrame(\n",
        "        {\n",
        "            'Weights' : w,\n",
        "            'Returns' : returns,\n",
        "            'Std' : stds,\n",
        "            'Sharpe Value': sharpes\n",
        "        }\n",
        "    )\n",
        "\n",
        "\n",
        "  return output"
      ],
      "metadata": {
        "id": "Zt8ffoey2ANg"
      },
      "id": "Zt8ffoey2ANg",
      "execution_count": 29,
      "outputs": []
    },
    {
      "cell_type": "code",
      "source": [
        "df = create_fronteir_df(1000)"
      ],
      "metadata": {
        "id": "fxIbgsmn3sLz"
      },
      "id": "fxIbgsmn3sLz",
      "execution_count": 30,
      "outputs": []
    },
    {
      "cell_type": "code",
      "source": [
        "best_sharpe = df[df['Sharpe Value'] == df['Sharpe Value'].max()]"
      ],
      "metadata": {
        "id": "arC1taSZ3w0Z"
      },
      "id": "arC1taSZ3w0Z",
      "execution_count": 32,
      "outputs": []
    },
    {
      "cell_type": "code",
      "source": [
        "best_sharpe"
      ],
      "metadata": {
        "colab": {
          "base_uri": "https://localhost:8080/",
          "height": 89
        },
        "id": "oknAmsft4m27",
        "outputId": "222db968-e2e6-4576-a810-fb800d0784f8"
      },
      "id": "oknAmsft4m27",
      "execution_count": 33,
      "outputs": [
        {
          "output_type": "execute_result",
          "data": {
            "text/plain": [
              "                                               Weights   Returns       Std  \\\n",
              "259  [0.1488631119111457, 0.2458824916219699, 0.002...  0.128502  0.156013   \n",
              "\n",
              "     Sharpe Value  \n",
              "259      0.823665  "
            ],
            "text/html": [
              "\n",
              "  <div id=\"df-a1998822-cdec-4774-83c1-79e9625b89a6\" class=\"colab-df-container\">\n",
              "    <div>\n",
              "<style scoped>\n",
              "    .dataframe tbody tr th:only-of-type {\n",
              "        vertical-align: middle;\n",
              "    }\n",
              "\n",
              "    .dataframe tbody tr th {\n",
              "        vertical-align: top;\n",
              "    }\n",
              "\n",
              "    .dataframe thead th {\n",
              "        text-align: right;\n",
              "    }\n",
              "</style>\n",
              "<table border=\"1\" class=\"dataframe\">\n",
              "  <thead>\n",
              "    <tr style=\"text-align: right;\">\n",
              "      <th></th>\n",
              "      <th>Weights</th>\n",
              "      <th>Returns</th>\n",
              "      <th>Std</th>\n",
              "      <th>Sharpe Value</th>\n",
              "    </tr>\n",
              "  </thead>\n",
              "  <tbody>\n",
              "    <tr>\n",
              "      <th>259</th>\n",
              "      <td>[0.1488631119111457, 0.2458824916219699, 0.002...</td>\n",
              "      <td>0.128502</td>\n",
              "      <td>0.156013</td>\n",
              "      <td>0.823665</td>\n",
              "    </tr>\n",
              "  </tbody>\n",
              "</table>\n",
              "</div>\n",
              "    <div class=\"colab-df-buttons\">\n",
              "\n",
              "  <div class=\"colab-df-container\">\n",
              "    <button class=\"colab-df-convert\" onclick=\"convertToInteractive('df-a1998822-cdec-4774-83c1-79e9625b89a6')\"\n",
              "            title=\"Convert this dataframe to an interactive table.\"\n",
              "            style=\"display:none;\">\n",
              "\n",
              "  <svg xmlns=\"http://www.w3.org/2000/svg\" height=\"24px\" viewBox=\"0 -960 960 960\">\n",
              "    <path d=\"M120-120v-720h720v720H120Zm60-500h600v-160H180v160Zm220 220h160v-160H400v160Zm0 220h160v-160H400v160ZM180-400h160v-160H180v160Zm440 0h160v-160H620v160ZM180-180h160v-160H180v160Zm440 0h160v-160H620v160Z\"/>\n",
              "  </svg>\n",
              "    </button>\n",
              "\n",
              "  <style>\n",
              "    .colab-df-container {\n",
              "      display:flex;\n",
              "      gap: 12px;\n",
              "    }\n",
              "\n",
              "    .colab-df-convert {\n",
              "      background-color: #E8F0FE;\n",
              "      border: none;\n",
              "      border-radius: 50%;\n",
              "      cursor: pointer;\n",
              "      display: none;\n",
              "      fill: #1967D2;\n",
              "      height: 32px;\n",
              "      padding: 0 0 0 0;\n",
              "      width: 32px;\n",
              "    }\n",
              "\n",
              "    .colab-df-convert:hover {\n",
              "      background-color: #E2EBFA;\n",
              "      box-shadow: 0px 1px 2px rgba(60, 64, 67, 0.3), 0px 1px 3px 1px rgba(60, 64, 67, 0.15);\n",
              "      fill: #174EA6;\n",
              "    }\n",
              "\n",
              "    .colab-df-buttons div {\n",
              "      margin-bottom: 4px;\n",
              "    }\n",
              "\n",
              "    [theme=dark] .colab-df-convert {\n",
              "      background-color: #3B4455;\n",
              "      fill: #D2E3FC;\n",
              "    }\n",
              "\n",
              "    [theme=dark] .colab-df-convert:hover {\n",
              "      background-color: #434B5C;\n",
              "      box-shadow: 0px 1px 3px 1px rgba(0, 0, 0, 0.15);\n",
              "      filter: drop-shadow(0px 1px 2px rgba(0, 0, 0, 0.3));\n",
              "      fill: #FFFFFF;\n",
              "    }\n",
              "  </style>\n",
              "\n",
              "    <script>\n",
              "      const buttonEl =\n",
              "        document.querySelector('#df-a1998822-cdec-4774-83c1-79e9625b89a6 button.colab-df-convert');\n",
              "      buttonEl.style.display =\n",
              "        google.colab.kernel.accessAllowed ? 'block' : 'none';\n",
              "\n",
              "      async function convertToInteractive(key) {\n",
              "        const element = document.querySelector('#df-a1998822-cdec-4774-83c1-79e9625b89a6');\n",
              "        const dataTable =\n",
              "          await google.colab.kernel.invokeFunction('convertToInteractive',\n",
              "                                                    [key], {});\n",
              "        if (!dataTable) return;\n",
              "\n",
              "        const docLinkHtml = 'Like what you see? Visit the ' +\n",
              "          '<a target=\"_blank\" href=https://colab.research.google.com/notebooks/data_table.ipynb>data table notebook</a>'\n",
              "          + ' to learn more about interactive tables.';\n",
              "        element.innerHTML = '';\n",
              "        dataTable['output_type'] = 'display_data';\n",
              "        await google.colab.output.renderOutput(dataTable, element);\n",
              "        const docLink = document.createElement('div');\n",
              "        docLink.innerHTML = docLinkHtml;\n",
              "        element.appendChild(docLink);\n",
              "      }\n",
              "    </script>\n",
              "  </div>\n",
              "\n",
              "\n",
              "  <div id=\"id_c5431939-4273-418d-9e8a-2bf1546e8daf\">\n",
              "    <style>\n",
              "      .colab-df-generate {\n",
              "        background-color: #E8F0FE;\n",
              "        border: none;\n",
              "        border-radius: 50%;\n",
              "        cursor: pointer;\n",
              "        display: none;\n",
              "        fill: #1967D2;\n",
              "        height: 32px;\n",
              "        padding: 0 0 0 0;\n",
              "        width: 32px;\n",
              "      }\n",
              "\n",
              "      .colab-df-generate:hover {\n",
              "        background-color: #E2EBFA;\n",
              "        box-shadow: 0px 1px 2px rgba(60, 64, 67, 0.3), 0px 1px 3px 1px rgba(60, 64, 67, 0.15);\n",
              "        fill: #174EA6;\n",
              "      }\n",
              "\n",
              "      [theme=dark] .colab-df-generate {\n",
              "        background-color: #3B4455;\n",
              "        fill: #D2E3FC;\n",
              "      }\n",
              "\n",
              "      [theme=dark] .colab-df-generate:hover {\n",
              "        background-color: #434B5C;\n",
              "        box-shadow: 0px 1px 3px 1px rgba(0, 0, 0, 0.15);\n",
              "        filter: drop-shadow(0px 1px 2px rgba(0, 0, 0, 0.3));\n",
              "        fill: #FFFFFF;\n",
              "      }\n",
              "    </style>\n",
              "    <button class=\"colab-df-generate\" onclick=\"generateWithVariable('best_sharpe')\"\n",
              "            title=\"Generate code using this dataframe.\"\n",
              "            style=\"display:none;\">\n",
              "\n",
              "  <svg xmlns=\"http://www.w3.org/2000/svg\" height=\"24px\"viewBox=\"0 0 24 24\"\n",
              "       width=\"24px\">\n",
              "    <path d=\"M7,19H8.4L18.45,9,17,7.55,7,17.6ZM5,21V16.75L18.45,3.32a2,2,0,0,1,2.83,0l1.4,1.43a1.91,1.91,0,0,1,.58,1.4,1.91,1.91,0,0,1-.58,1.4L9.25,21ZM18.45,9,17,7.55Zm-12,3A5.31,5.31,0,0,0,4.9,8.1,5.31,5.31,0,0,0,1,6.5,5.31,5.31,0,0,0,4.9,4.9,5.31,5.31,0,0,0,6.5,1,5.31,5.31,0,0,0,8.1,4.9,5.31,5.31,0,0,0,12,6.5,5.46,5.46,0,0,0,6.5,12Z\"/>\n",
              "  </svg>\n",
              "    </button>\n",
              "    <script>\n",
              "      (() => {\n",
              "      const buttonEl =\n",
              "        document.querySelector('#id_c5431939-4273-418d-9e8a-2bf1546e8daf button.colab-df-generate');\n",
              "      buttonEl.style.display =\n",
              "        google.colab.kernel.accessAllowed ? 'block' : 'none';\n",
              "\n",
              "      buttonEl.onclick = () => {\n",
              "        google.colab.notebook.generateWithVariable('best_sharpe');\n",
              "      }\n",
              "      })();\n",
              "    </script>\n",
              "  </div>\n",
              "\n",
              "    </div>\n",
              "  </div>\n"
            ],
            "application/vnd.google.colaboratory.intrinsic+json": {
              "type": "dataframe",
              "variable_name": "best_sharpe",
              "summary": "{\n  \"name\": \"best_sharpe\",\n  \"rows\": 1,\n  \"fields\": [\n    {\n      \"column\": \"Weights\",\n      \"properties\": {\n        \"dtype\": \"object\",\n        \"semantic_type\": \"\",\n        \"description\": \"\"\n      }\n    },\n    {\n      \"column\": \"Returns\",\n      \"properties\": {\n        \"dtype\": \"number\",\n        \"std\": null,\n        \"min\": 0.12850207272250322,\n        \"max\": 0.12850207272250322,\n        \"num_unique_values\": 1,\n        \"samples\": [\n          0.12850207272250322\n        ],\n        \"semantic_type\": \"\",\n        \"description\": \"\"\n      }\n    },\n    {\n      \"column\": \"Std\",\n      \"properties\": {\n        \"dtype\": \"number\",\n        \"std\": null,\n        \"min\": 0.15601253202261128,\n        \"max\": 0.15601253202261128,\n        \"num_unique_values\": 1,\n        \"samples\": [\n          0.15601253202261128\n        ],\n        \"semantic_type\": \"\",\n        \"description\": \"\"\n      }\n    },\n    {\n      \"column\": \"Sharpe Value\",\n      \"properties\": {\n        \"dtype\": \"number\",\n        \"std\": null,\n        \"min\": 0.8236650675208521,\n        \"max\": 0.8236650675208521,\n        \"num_unique_values\": 1,\n        \"samples\": [\n          0.8236650675208521\n        ],\n        \"semantic_type\": \"\",\n        \"description\": \"\"\n      }\n    }\n  ]\n}"
            }
          },
          "metadata": {},
          "execution_count": 33
        }
      ]
    }
  ],
  "metadata": {
    "kernelspec": {
      "display_name": "Python 3 (ipykernel)",
      "language": "python",
      "name": "python3"
    },
    "language_info": {
      "codemirror_mode": {
        "name": "ipython",
        "version": 3
      },
      "file_extension": ".py",
      "mimetype": "text/x-python",
      "name": "python",
      "nbconvert_exporter": "python",
      "pygments_lexer": "ipython3",
      "version": "3.11.5"
    },
    "colab": {
      "provenance": []
    }
  },
  "nbformat": 4,
  "nbformat_minor": 5
}